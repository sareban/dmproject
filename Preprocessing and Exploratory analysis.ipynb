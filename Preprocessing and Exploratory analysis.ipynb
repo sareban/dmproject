{
 "cells": [
  {
   "cell_type": "code",
   "execution_count": 19,
   "metadata": {
    "collapsed": true
   },
   "outputs": [],
   "source": [
    "%matplotlib inline\n",
    "import pandas as pd\n",
    "import numpy as np\n",
    "import matplotlib.pyplot as plt\n",
    "import seaborn as sns"
   ]
  },
  {
   "cell_type": "markdown",
   "metadata": {},
   "source": [
    "# Milestone 2 : Preprocessing"
   ]
  },
  {
   "cell_type": "markdown",
   "metadata": {},
   "source": [
    "In this notebook we import the already transformed raw data into dataFrames, and perform some prior statistical overview of our dataset, mostly looking at notes frequency as a feature of modal characterization. \n",
    "\n",
    "We must acknowledge not having gone pretty far in that direction, for the limited time available since the obtention of the data and the busy days for the single participant. However, considering the extent of the task as submitted in the proposal, we are confident that it will be accomplished early on in the next weeks, allowing for potential interesting additions to the project.\n",
    "\n",
    "We also must acknowledge that until further notice from Prof. Baily, we prefer not to disclose de document, as it was not intended to be released publicly.\n",
    "\n",
    "For the present moment, our dataset is quite small in size, and we can hardly judge of it's meaningful. Nevertheless, the steps taken into putting up a pipeline to process may well apply to a more decent-sized dataset that would allow for a better study."
   ]
  },
  {
   "cell_type": "markdown",
   "metadata": {},
   "source": [
    "### A few words on the dataset"
   ]
  },
  {
   "cell_type": "markdown",
   "metadata": {},
   "source": [
    "The data consists in Afghan classical themes gathered by Prof. John Baily, Goldsmith University, and compiled into a document prepared at the occasion of the 2014 Winter School of the Afghan National Institute of Music, Kabul (Afghanistan). The music is notated following the common Afghanized version of the Hindustani Saregam notation. Because the music is based on variations (both melodic and rythmic) of the themes and improvisation within the modes (known as raags), the theme are fairly short in terms of notes, from a single to a few rythmic cycles per movement of a composition. \n",
    "\n",
    "For now, it consists of 43 compositions of various length and rythmic cycles, in 15 modes. Issues around the present state of the dataset are addressed in the report. The dataset will be significantly enriched over the next weeks, from publicly available material or personnal transcriptions on one side, from additional documents if Prof. Baily consents.   "
   ]
  },
  {
   "cell_type": "markdown",
   "metadata": {},
   "source": [
    "### Importing the data"
   ]
  },
  {
   "cell_type": "markdown",
   "metadata": {},
   "source": [
    "Although we have prepared several segmentations of the data, as mentioned in the report, for now we focus on an approach that considers compositions in their totality; we do not discriminate yet between movements of said compositions.\n",
    "\n",
    "We begin by creating a list of the used symbols. This goes from Nii (low B) up to Ma1 (high F). v stands for a silence.\n",
    "\n",
    "![Table of equivalence of Saregam notation with Western notation](Saregama.png)"
   ]
  },
  {
   "cell_type": "code",
   "execution_count": 46,
   "metadata": {
    "collapsed": false
   },
   "outputs": [],
   "source": [
    "symbols = [\"Nii\",\"Sa\",\"Ra\",\"Re\",\"Ga\",\"Ge\",\"Ma\",\"Me\",\"Pe\",\"Da\",\"De\",\"Na\",\"Ni\",\"Sa1\",\"Ra1\",\"Re1\",\"Ga1\",\"Ge1\",\"Ma1\", \"v\"]"
   ]
  },
  {
   "cell_type": "code",
   "execution_count": 203,
   "metadata": {
    "collapsed": false
   },
   "outputs": [
    {
     "data": {
      "text/html": [
       "<div>\n",
       "<table border=\"1\" class=\"dataframe\">\n",
       "  <thead>\n",
       "    <tr style=\"text-align: right;\">\n",
       "      <th></th>\n",
       "      <th>Raag</th>\n",
       "      <th>Taal</th>\n",
       "      <th>Composition</th>\n",
       "    </tr>\n",
       "    <tr>\n",
       "      <th>ID</th>\n",
       "      <th></th>\n",
       "      <th></th>\n",
       "      <th></th>\n",
       "    </tr>\n",
       "  </thead>\n",
       "  <tbody>\n",
       "    <tr>\n",
       "      <th>1</th>\n",
       "      <td>Ahir Bhairav</td>\n",
       "      <td>Jhaptal</td>\n",
       "      <td>NaDe PeMa GeRa Sa SaRa GeMa  Pe Sa RaRa Sa  Sa...</td>\n",
       "    </tr>\n",
       "    <tr>\n",
       "      <th>2</th>\n",
       "      <td>Ahir Bhairav</td>\n",
       "      <td>Tintal</td>\n",
       "      <td>Sa1 Sa1 Sa1 NaSa1 Ra1 Ra1 Ra1 Sa1Na Sa1 Sa1 Sa...</td>\n",
       "    </tr>\n",
       "    <tr>\n",
       "      <th>3</th>\n",
       "      <td>Ahir Bhairav</td>\n",
       "      <td>Tintal</td>\n",
       "      <td>Sa v v RaRa Sa NaDe Sa v Sa NaNa De Pe Pe Ma v...</td>\n",
       "    </tr>\n",
       "    <tr>\n",
       "      <th>4</th>\n",
       "      <td>Ahir Bhairav</td>\n",
       "      <td>Tintal</td>\n",
       "      <td>Sa Sa1Sa1 Na Sa1 De NaNa Pe De Na Sa1Sa1 De Na...</td>\n",
       "    </tr>\n",
       "    <tr>\n",
       "      <th>5</th>\n",
       "      <td>Ahir Bhairav</td>\n",
       "      <td>Tintal</td>\n",
       "      <td>Sa1 v v Na Pe Ma Ge Ra Sa RaRa Sa Ma v De v Na</td>\n",
       "    </tr>\n",
       "    <tr>\n",
       "      <th>6</th>\n",
       "      <td>Ahir Bhairav</td>\n",
       "      <td>Tintal</td>\n",
       "      <td>SaSa SaRa SaSa SaGe SaSa SaRa SaSa SaMa SaSa S...</td>\n",
       "    </tr>\n",
       "    <tr>\n",
       "      <th>7</th>\n",
       "      <td>Ahir Bhairav</td>\n",
       "      <td>Tintal</td>\n",
       "      <td>SaSa SaRa SaSa SaGe SaSa SaRa SaSa SaMa SaSa S...</td>\n",
       "    </tr>\n",
       "    <tr>\n",
       "      <th>8</th>\n",
       "      <td>Asa</td>\n",
       "      <td>Tintal</td>\n",
       "      <td>Sa1 Sa1 Sa1 Sa1 Sa1 Sa1 Sa1Sa1 Ni De Pe Ma Pe ...</td>\n",
       "    </tr>\n",
       "    <tr>\n",
       "      <th>9</th>\n",
       "      <td>Asa</td>\n",
       "      <td>Tintal</td>\n",
       "      <td>Sa1 Sa1 Sa1 NiSa1 De GeMa PeDe NiSa1 NiDe PeMa...</td>\n",
       "    </tr>\n",
       "    <tr>\n",
       "      <th>10</th>\n",
       "      <td>Asa</td>\n",
       "      <td>Tintal</td>\n",
       "      <td>Sa1 v Ni De Pe Ma Ge Re Sa Re v Ma v Pe v De</td>\n",
       "    </tr>\n",
       "  </tbody>\n",
       "</table>\n",
       "</div>"
      ],
      "text/plain": [
       "            Raag     Taal                                        Composition\n",
       "ID                                                                          \n",
       "1   Ahir Bhairav  Jhaptal  NaDe PeMa GeRa Sa SaRa GeMa  Pe Sa RaRa Sa  Sa...\n",
       "2   Ahir Bhairav   Tintal  Sa1 Sa1 Sa1 NaSa1 Ra1 Ra1 Ra1 Sa1Na Sa1 Sa1 Sa...\n",
       "3   Ahir Bhairav   Tintal  Sa v v RaRa Sa NaDe Sa v Sa NaNa De Pe Pe Ma v...\n",
       "4   Ahir Bhairav   Tintal  Sa Sa1Sa1 Na Sa1 De NaNa Pe De Na Sa1Sa1 De Na...\n",
       "5   Ahir Bhairav   Tintal     Sa1 v v Na Pe Ma Ge Ra Sa RaRa Sa Ma v De v Na\n",
       "6   Ahir Bhairav   Tintal  SaSa SaRa SaSa SaGe SaSa SaRa SaSa SaMa SaSa S...\n",
       "7   Ahir Bhairav   Tintal  SaSa SaRa SaSa SaGe SaSa SaRa SaSa SaMa SaSa S...\n",
       "8            Asa   Tintal  Sa1 Sa1 Sa1 Sa1 Sa1 Sa1 Sa1Sa1 Ni De Pe Ma Pe ...\n",
       "9            Asa   Tintal  Sa1 Sa1 Sa1 NiSa1 De GeMa PeDe NiSa1 NiDe PeMa...\n",
       "10           Asa   Tintal       Sa1 v Ni De Pe Ma Ge Re Sa Re v Ma v Pe v De"
      ]
     },
     "execution_count": 203,
     "metadata": {},
     "output_type": "execute_result"
    }
   ],
   "source": [
    "df_full = pd.read_csv(\"full.csv\", sep=\";\", index_col=\"ID\")\n",
    "df_full.head(10)"
   ]
  },
  {
   "cell_type": "markdown",
   "metadata": {},
   "source": [
    "Next, we proceed to count the notes in each composition. We then compute their proportions (to get meaningful results given that compositions vary greatly in size), and these are the first features we explore."
   ]
  },
  {
   "cell_type": "code",
   "execution_count": 204,
   "metadata": {
    "collapsed": false
   },
   "outputs": [],
   "source": [
    "def count_notes(n):\n",
    "    count = list()\n",
    "    for note in symbols :\n",
    "        count.append(n.count(note));\n",
    "    total = sum(count)\n",
    "    count = [(x*100/total) for x in count]\n",
    "    count.append(total)\n",
    "    return count"
   ]
  },
  {
   "cell_type": "code",
   "execution_count": 205,
   "metadata": {
    "collapsed": false
   },
   "outputs": [],
   "source": [
    "total_count = list()\n",
    "for composition in df_full.Composition :\n",
    "    total_count.append(count_notes(composition));\n",
    "df_full_count = pd.DataFrame(total_count, columns=symbols+[\"Total\"])"
   ]
  },
  {
   "cell_type": "code",
   "execution_count": 206,
   "metadata": {
    "collapsed": false
   },
   "outputs": [
    {
     "data": {
      "text/html": [
       "<div>\n",
       "<table border=\"1\" class=\"dataframe\">\n",
       "  <thead>\n",
       "    <tr style=\"text-align: right;\">\n",
       "      <th></th>\n",
       "      <th>Nii</th>\n",
       "      <th>Sa</th>\n",
       "      <th>Ra</th>\n",
       "      <th>Re</th>\n",
       "      <th>Ga</th>\n",
       "      <th>Ge</th>\n",
       "      <th>Ma</th>\n",
       "      <th>Me</th>\n",
       "      <th>Pe</th>\n",
       "      <th>Da</th>\n",
       "      <th>...</th>\n",
       "      <th>Na</th>\n",
       "      <th>Ni</th>\n",
       "      <th>Sa1</th>\n",
       "      <th>Ra1</th>\n",
       "      <th>Re1</th>\n",
       "      <th>Ga1</th>\n",
       "      <th>Ge1</th>\n",
       "      <th>Ma1</th>\n",
       "      <th>v</th>\n",
       "      <th>Total</th>\n",
       "    </tr>\n",
       "  </thead>\n",
       "  <tbody>\n",
       "    <tr>\n",
       "      <th>0</th>\n",
       "      <td>0.0</td>\n",
       "      <td>16.981132</td>\n",
       "      <td>13.836478</td>\n",
       "      <td>0.0</td>\n",
       "      <td>0.0</td>\n",
       "      <td>10.377358</td>\n",
       "      <td>10.377358</td>\n",
       "      <td>0.0</td>\n",
       "      <td>7.861635</td>\n",
       "      <td>0.314465</td>\n",
       "      <td>...</td>\n",
       "      <td>12.893082</td>\n",
       "      <td>0.0</td>\n",
       "      <td>10.062893</td>\n",
       "      <td>4.716981</td>\n",
       "      <td>0.0</td>\n",
       "      <td>0.0</td>\n",
       "      <td>1.257862</td>\n",
       "      <td>0.000000</td>\n",
       "      <td>0.000000</td>\n",
       "      <td>318</td>\n",
       "    </tr>\n",
       "    <tr>\n",
       "      <th>1</th>\n",
       "      <td>0.0</td>\n",
       "      <td>18.446602</td>\n",
       "      <td>14.077670</td>\n",
       "      <td>0.0</td>\n",
       "      <td>0.0</td>\n",
       "      <td>6.796117</td>\n",
       "      <td>8.252427</td>\n",
       "      <td>0.0</td>\n",
       "      <td>6.310680</td>\n",
       "      <td>0.000000</td>\n",
       "      <td>...</td>\n",
       "      <td>12.135922</td>\n",
       "      <td>0.0</td>\n",
       "      <td>14.563107</td>\n",
       "      <td>6.796117</td>\n",
       "      <td>0.0</td>\n",
       "      <td>0.0</td>\n",
       "      <td>0.485437</td>\n",
       "      <td>0.485437</td>\n",
       "      <td>0.970874</td>\n",
       "      <td>206</td>\n",
       "    </tr>\n",
       "    <tr>\n",
       "      <th>2</th>\n",
       "      <td>0.0</td>\n",
       "      <td>19.047619</td>\n",
       "      <td>14.285714</td>\n",
       "      <td>0.0</td>\n",
       "      <td>0.0</td>\n",
       "      <td>4.761905</td>\n",
       "      <td>4.761905</td>\n",
       "      <td>0.0</td>\n",
       "      <td>9.523810</td>\n",
       "      <td>0.000000</td>\n",
       "      <td>...</td>\n",
       "      <td>14.285714</td>\n",
       "      <td>0.0</td>\n",
       "      <td>0.000000</td>\n",
       "      <td>0.000000</td>\n",
       "      <td>0.0</td>\n",
       "      <td>0.0</td>\n",
       "      <td>0.000000</td>\n",
       "      <td>0.000000</td>\n",
       "      <td>23.809524</td>\n",
       "      <td>21</td>\n",
       "    </tr>\n",
       "    <tr>\n",
       "      <th>3</th>\n",
       "      <td>0.0</td>\n",
       "      <td>25.000000</td>\n",
       "      <td>4.166667</td>\n",
       "      <td>0.0</td>\n",
       "      <td>0.0</td>\n",
       "      <td>4.166667</td>\n",
       "      <td>4.166667</td>\n",
       "      <td>0.0</td>\n",
       "      <td>8.333333</td>\n",
       "      <td>0.000000</td>\n",
       "      <td>...</td>\n",
       "      <td>20.833333</td>\n",
       "      <td>0.0</td>\n",
       "      <td>20.833333</td>\n",
       "      <td>0.000000</td>\n",
       "      <td>0.0</td>\n",
       "      <td>0.0</td>\n",
       "      <td>0.000000</td>\n",
       "      <td>0.000000</td>\n",
       "      <td>0.000000</td>\n",
       "      <td>24</td>\n",
       "    </tr>\n",
       "    <tr>\n",
       "      <th>4</th>\n",
       "      <td>0.0</td>\n",
       "      <td>16.666667</td>\n",
       "      <td>16.666667</td>\n",
       "      <td>0.0</td>\n",
       "      <td>0.0</td>\n",
       "      <td>5.555556</td>\n",
       "      <td>11.111111</td>\n",
       "      <td>0.0</td>\n",
       "      <td>5.555556</td>\n",
       "      <td>0.000000</td>\n",
       "      <td>...</td>\n",
       "      <td>11.111111</td>\n",
       "      <td>0.0</td>\n",
       "      <td>5.555556</td>\n",
       "      <td>0.000000</td>\n",
       "      <td>0.0</td>\n",
       "      <td>0.0</td>\n",
       "      <td>0.000000</td>\n",
       "      <td>0.000000</td>\n",
       "      <td>22.222222</td>\n",
       "      <td>18</td>\n",
       "    </tr>\n",
       "  </tbody>\n",
       "</table>\n",
       "<p>5 rows × 21 columns</p>\n",
       "</div>"
      ],
      "text/plain": [
       "   Nii         Sa         Ra   Re   Ga         Ge         Ma   Me        Pe  \\\n",
       "0  0.0  16.981132  13.836478  0.0  0.0  10.377358  10.377358  0.0  7.861635   \n",
       "1  0.0  18.446602  14.077670  0.0  0.0   6.796117   8.252427  0.0  6.310680   \n",
       "2  0.0  19.047619  14.285714  0.0  0.0   4.761905   4.761905  0.0  9.523810   \n",
       "3  0.0  25.000000   4.166667  0.0  0.0   4.166667   4.166667  0.0  8.333333   \n",
       "4  0.0  16.666667  16.666667  0.0  0.0   5.555556  11.111111  0.0  5.555556   \n",
       "\n",
       "         Da  ...           Na   Ni        Sa1       Ra1  Re1  Ga1       Ge1  \\\n",
       "0  0.314465  ...    12.893082  0.0  10.062893  4.716981  0.0  0.0  1.257862   \n",
       "1  0.000000  ...    12.135922  0.0  14.563107  6.796117  0.0  0.0  0.485437   \n",
       "2  0.000000  ...    14.285714  0.0   0.000000  0.000000  0.0  0.0  0.000000   \n",
       "3  0.000000  ...    20.833333  0.0  20.833333  0.000000  0.0  0.0  0.000000   \n",
       "4  0.000000  ...    11.111111  0.0   5.555556  0.000000  0.0  0.0  0.000000   \n",
       "\n",
       "        Ma1          v  Total  \n",
       "0  0.000000   0.000000    318  \n",
       "1  0.485437   0.970874    206  \n",
       "2  0.000000  23.809524     21  \n",
       "3  0.000000   0.000000     24  \n",
       "4  0.000000  22.222222     18  \n",
       "\n",
       "[5 rows x 21 columns]"
      ]
     },
     "execution_count": 206,
     "metadata": {},
     "output_type": "execute_result"
    }
   ],
   "source": [
    "df_full_count.head(5)"
   ]
  },
  {
   "cell_type": "markdown",
   "metadata": {},
   "source": [
    "Obviously, with this method of counting, we have a redundancy issue: notes out of the main octave are counted twice, eg: Sa1 counts for Sa1 as well as for Sa. This can easily be fixed without changing our straightforward counting method."
   ]
  },
  {
   "cell_type": "code",
   "execution_count": 207,
   "metadata": {
    "collapsed": true
   },
   "outputs": [],
   "source": [
    "df_full_count.Ni = df_full_count.Ni - df_full_count.Nii\n",
    "df_full_count.Sa = df_full_count.Sa - df_full_count.Sa1\n",
    "df_full_count.Ra = df_full_count.Ra - df_full_count.Ra1\n",
    "df_full_count.Re = df_full_count.Re - df_full_count.Re1\n",
    "df_full_count.Ga = df_full_count.Ga - df_full_count.Ga1\n",
    "df_full_count.Ge = df_full_count.Ge - df_full_count.Ge1\n",
    "df_full_count.Ma = df_full_count.Ma - df_full_count.Ma1\n",
    "df_full_count.Total = df_full_count.Total - df_full_count.Nii -df_full_count.Sa1-df_full_count.Ra1-df_full_count.Re1-df_full_count.Ga1-df_full_count.Ge1-df_full_count.Ma1"
   ]
  },
  {
   "cell_type": "markdown",
   "metadata": {},
   "source": [
    "We then provide a few plots that are discussed in the report."
   ]
  },
  {
   "cell_type": "code",
   "execution_count": 208,
   "metadata": {
    "collapsed": false
   },
   "outputs": [
    {
     "data": {
      "text/plain": [
       "<matplotlib.axes._subplots.AxesSubplot at 0x1b91dbcddd8>"
      ]
     },
     "execution_count": 208,
     "metadata": {},
     "output_type": "execute_result"
    },
    {
     "data": {
      "image/png": "[encoded data removed]",
      "text/plain": [
       "<matplotlib.figure.Figure at 0x1b91daee6d8>"
      ]
     },
     "metadata": {},
     "output_type": "display_data"
    }
   ],
   "source": [
    "df_full_count.iloc[:,0:20].plot()"
   ]
  },
  {
   "cell_type": "code",
   "execution_count": 285,
   "metadata": {
    "collapsed": false
   },
   "outputs": [
    {
     "data": {
      "text/plain": [
       "<matplotlib.axes._subplots.AxesSubplot at 0x1b93cb75128>"
      ]
     },
     "execution_count": 285,
     "metadata": {},
     "output_type": "execute_result"
    },
    {
     "data": {
      "image/png": "[encoded data removed]",
      "text/plain": [
       "<matplotlib.figure.Figure at 0x1b93a7cc4e0>"
      ]
     },
     "metadata": {},
     "output_type": "display_data"
    }
   ],
   "source": [
    "df_full_count.sum(axis=0)[0:20].plot(kind=\"bar\")"
   ]
  },
  {
   "cell_type": "markdown",
   "metadata": {},
   "source": [
    "Still, the unbalance between modes representation in the dataset is not leveled, for such we should aggregate the data by modes."
   ]
  },
  {
   "cell_type": "code",
   "execution_count": 283,
   "metadata": {
    "collapsed": false
   },
   "outputs": [],
   "source": [
    "count_raag = list()\n",
    "\n",
    "for raag in df_full.Raag.unique() :\n",
    "    count = [0] * 21\n",
    "    for index in df_full.loc[df_full['Raag'] == raag].index.values.tolist() :\n",
    "        count = count + df_full_count.iloc[index-1];\n",
    "    total = count[20]\n",
    "    count = [(x/len(df_full.loc[df_full['Raag'] == raag].index.values.tolist())) for x in count[0:20]]\n",
    "    count.append(total)\n",
    "    count.append(raag)\n",
    "    count_raag.append(count);\n",
    "    \n",
    "df_count_raag = pd.DataFrame(count_raag, columns=symbols+[\"Total\",\"Raag\"])\n",
    "df_count_raag.set_index('Raag', inplace=True)"
   ]
  },
  {
   "cell_type": "code",
   "execution_count": 281,
   "metadata": {
    "collapsed": false
   },
   "outputs": [
    {
     "data": {
      "text/html": [
       "<div>\n",
       "<table border=\"1\" class=\"dataframe\">\n",
       "  <thead>\n",
       "    <tr style=\"text-align: right;\">\n",
       "      <th></th>\n",
       "      <th>Nii</th>\n",
       "      <th>Sa</th>\n",
       "      <th>Ra</th>\n",
       "      <th>Re</th>\n",
       "      <th>Ga</th>\n",
       "      <th>Ge</th>\n",
       "      <th>Ma</th>\n",
       "      <th>Me</th>\n",
       "      <th>Pe</th>\n",
       "      <th>Da</th>\n",
       "      <th>...</th>\n",
       "      <th>Ni</th>\n",
       "      <th>Sa1</th>\n",
       "      <th>Ra1</th>\n",
       "      <th>Re1</th>\n",
       "      <th>Ga1</th>\n",
       "      <th>Ge1</th>\n",
       "      <th>Ma1</th>\n",
       "      <th>v</th>\n",
       "      <th>Total</th>\n",
       "      <th>Raag</th>\n",
       "    </tr>\n",
       "  </thead>\n",
       "  <tbody>\n",
       "    <tr>\n",
       "      <th>0</th>\n",
       "      <td>0.000000</td>\n",
       "      <td>20.020990</td>\n",
       "      <td>10.097058</td>\n",
       "      <td>0.000000</td>\n",
       "      <td>0.000000</td>\n",
       "      <td>6.011865</td>\n",
       "      <td>7.630572</td>\n",
       "      <td>0.0</td>\n",
       "      <td>7.320900</td>\n",
       "      <td>0.044924</td>\n",
       "      <td>...</td>\n",
       "      <td>0.000000</td>\n",
       "      <td>8.219045</td>\n",
       "      <td>1.644728</td>\n",
       "      <td>0.000000</td>\n",
       "      <td>0.000000</td>\n",
       "      <td>0.249043</td>\n",
       "      <td>0.069348</td>\n",
       "      <td>6.714660</td>\n",
       "      <td>680.724850</td>\n",
       "      <td>Ahir Bhairav</td>\n",
       "    </tr>\n",
       "    <tr>\n",
       "      <th>1</th>\n",
       "      <td>0.465116</td>\n",
       "      <td>6.353549</td>\n",
       "      <td>0.000000</td>\n",
       "      <td>6.583067</td>\n",
       "      <td>0.000000</td>\n",
       "      <td>5.733394</td>\n",
       "      <td>12.086943</td>\n",
       "      <td>0.0</td>\n",
       "      <td>12.061104</td>\n",
       "      <td>0.000000</td>\n",
       "      <td>...</td>\n",
       "      <td>6.534428</td>\n",
       "      <td>12.322541</td>\n",
       "      <td>0.000000</td>\n",
       "      <td>0.620155</td>\n",
       "      <td>0.000000</td>\n",
       "      <td>0.310078</td>\n",
       "      <td>0.000000</td>\n",
       "      <td>8.773370</td>\n",
       "      <td>220.846329</td>\n",
       "      <td>Asa</td>\n",
       "    </tr>\n",
       "    <tr>\n",
       "      <th>2</th>\n",
       "      <td>0.000000</td>\n",
       "      <td>4.380139</td>\n",
       "      <td>0.000000</td>\n",
       "      <td>2.920093</td>\n",
       "      <td>8.760278</td>\n",
       "      <td>0.000000</td>\n",
       "      <td>15.907653</td>\n",
       "      <td>0.0</td>\n",
       "      <td>1.307190</td>\n",
       "      <td>0.000000</td>\n",
       "      <td>...</td>\n",
       "      <td>0.000000</td>\n",
       "      <td>14.774404</td>\n",
       "      <td>0.000000</td>\n",
       "      <td>1.460046</td>\n",
       "      <td>0.326797</td>\n",
       "      <td>0.000000</td>\n",
       "      <td>0.000000</td>\n",
       "      <td>5.819102</td>\n",
       "      <td>181.877504</td>\n",
       "      <td>Bagheshri</td>\n",
       "    </tr>\n",
       "    <tr>\n",
       "      <th>3</th>\n",
       "      <td>2.691020</td>\n",
       "      <td>7.762004</td>\n",
       "      <td>6.860938</td>\n",
       "      <td>0.000000</td>\n",
       "      <td>0.000000</td>\n",
       "      <td>8.784281</td>\n",
       "      <td>11.596513</td>\n",
       "      <td>0.0</td>\n",
       "      <td>11.164245</td>\n",
       "      <td>11.248928</td>\n",
       "      <td>...</td>\n",
       "      <td>6.646741</td>\n",
       "      <td>7.200221</td>\n",
       "      <td>2.909091</td>\n",
       "      <td>0.000000</td>\n",
       "      <td>0.000000</td>\n",
       "      <td>0.000000</td>\n",
       "      <td>0.000000</td>\n",
       "      <td>9.879065</td>\n",
       "      <td>142.599004</td>\n",
       "      <td>Bhairav</td>\n",
       "    </tr>\n",
       "    <tr>\n",
       "      <th>4</th>\n",
       "      <td>0.000000</td>\n",
       "      <td>8.220134</td>\n",
       "      <td>0.000000</td>\n",
       "      <td>2.516291</td>\n",
       "      <td>12.699248</td>\n",
       "      <td>0.000000</td>\n",
       "      <td>11.760234</td>\n",
       "      <td>0.0</td>\n",
       "      <td>13.882206</td>\n",
       "      <td>0.000000</td>\n",
       "      <td>...</td>\n",
       "      <td>0.000000</td>\n",
       "      <td>11.223058</td>\n",
       "      <td>0.000000</td>\n",
       "      <td>2.108605</td>\n",
       "      <td>1.214286</td>\n",
       "      <td>0.000000</td>\n",
       "      <td>0.000000</td>\n",
       "      <td>4.315372</td>\n",
       "      <td>228.362155</td>\n",
       "      <td>Bhimpalasi</td>\n",
       "    </tr>\n",
       "  </tbody>\n",
       "</table>\n",
       "<p>5 rows × 22 columns</p>\n",
       "</div>"
      ],
      "text/plain": [
       "        Nii         Sa         Ra        Re         Ga        Ge         Ma  \\\n",
       "0  0.000000  20.020990  10.097058  0.000000   0.000000  6.011865   7.630572   \n",
       "1  0.465116   6.353549   0.000000  6.583067   0.000000  5.733394  12.086943   \n",
       "2  0.000000   4.380139   0.000000  2.920093   8.760278  0.000000  15.907653   \n",
       "3  2.691020   7.762004   6.860938  0.000000   0.000000  8.784281  11.596513   \n",
       "4  0.000000   8.220134   0.000000  2.516291  12.699248  0.000000  11.760234   \n",
       "\n",
       "    Me         Pe         Da      ...             Ni        Sa1       Ra1  \\\n",
       "0  0.0   7.320900   0.044924      ...       0.000000   8.219045  1.644728   \n",
       "1  0.0  12.061104   0.000000      ...       6.534428  12.322541  0.000000   \n",
       "2  0.0   1.307190   0.000000      ...       0.000000  14.774404  0.000000   \n",
       "3  0.0  11.164245  11.248928      ...       6.646741   7.200221  2.909091   \n",
       "4  0.0  13.882206   0.000000      ...       0.000000  11.223058  0.000000   \n",
       "\n",
       "        Re1       Ga1       Ge1       Ma1         v       Total          Raag  \n",
       "0  0.000000  0.000000  0.249043  0.069348  6.714660  680.724850  Ahir Bhairav  \n",
       "1  0.620155  0.000000  0.310078  0.000000  8.773370  220.846329           Asa  \n",
       "2  1.460046  0.326797  0.000000  0.000000  5.819102  181.877504     Bagheshri  \n",
       "3  0.000000  0.000000  0.000000  0.000000  9.879065  142.599004       Bhairav  \n",
       "4  2.108605  1.214286  0.000000  0.000000  4.315372  228.362155    Bhimpalasi  \n",
       "\n",
       "[5 rows x 22 columns]"
      ]
     },
     "execution_count": 281,
     "metadata": {},
     "output_type": "execute_result"
    }
   ],
   "source": [
    "df_count_raag.head(5)"
   ]
  },
  {
   "cell_type": "markdown",
   "metadata": {},
   "source": [
    "We provide a meaningful plot that hints for specific modal identities."
   ]
  },
  {
   "cell_type": "code",
   "execution_count": 259,
   "metadata": {
    "collapsed": false
   },
   "outputs": [
    {
     "data": {
      "text/plain": [
       "<matplotlib.axes._subplots.AxesSubplot at 0x1b92341e9e8>"
      ]
     },
     "execution_count": 259,
     "metadata": {},
     "output_type": "execute_result"
    },
    {
     "data": {
      "image/png": "[encoded data removed]",
      "text/plain": [
       "<matplotlib.figure.Figure at 0x1b9239b0668>"
      ]
     },
     "metadata": {},
     "output_type": "display_data"
    }
   ],
   "source": [
    "df_count_raag.iloc[:,0:20].plot(kind=\"bar\", figsize=(25,13), colormap=plt.cm.Dark2)"
   ]
  },
  {
   "cell_type": "markdown",
   "metadata": {},
   "source": [
    "We can as well consider descriptive statistics and correlation maps that extend the information provided by the plots. These are discussed in the report."
   ]
  },
  {
   "cell_type": "code",
   "execution_count": 265,
   "metadata": {
    "collapsed": false
   },
   "outputs": [
    {
     "data": {
      "text/html": [
       "<div>\n",
       "<table border=\"1\" class=\"dataframe\">\n",
       "  <thead>\n",
       "    <tr style=\"text-align: right;\">\n",
       "      <th></th>\n",
       "      <th>Nii</th>\n",
       "      <th>Sa</th>\n",
       "      <th>Ra</th>\n",
       "      <th>Re</th>\n",
       "      <th>Ga</th>\n",
       "      <th>Ge</th>\n",
       "      <th>Ma</th>\n",
       "      <th>Me</th>\n",
       "      <th>Pe</th>\n",
       "      <th>Da</th>\n",
       "    </tr>\n",
       "  </thead>\n",
       "  <tbody>\n",
       "    <tr>\n",
       "      <th>count</th>\n",
       "      <td>15.000000</td>\n",
       "      <td>15.000000</td>\n",
       "      <td>15.000000</td>\n",
       "      <td>15.000000</td>\n",
       "      <td>15.000000</td>\n",
       "      <td>15.000000</td>\n",
       "      <td>15.000000</td>\n",
       "      <td>15.000000</td>\n",
       "      <td>15.000000</td>\n",
       "      <td>15.000000</td>\n",
       "    </tr>\n",
       "    <tr>\n",
       "      <th>mean</th>\n",
       "      <td>1.066484</td>\n",
       "      <td>7.039931</td>\n",
       "      <td>1.943930</td>\n",
       "      <td>3.363151</td>\n",
       "      <td>2.205206</td>\n",
       "      <td>7.468213</td>\n",
       "      <td>9.675157</td>\n",
       "      <td>1.177463</td>\n",
       "      <td>11.532621</td>\n",
       "      <td>1.984611</td>\n",
       "    </tr>\n",
       "    <tr>\n",
       "      <th>std</th>\n",
       "      <td>1.921195</td>\n",
       "      <td>5.041806</td>\n",
       "      <td>4.138586</td>\n",
       "      <td>3.848428</td>\n",
       "      <td>4.439569</td>\n",
       "      <td>5.589084</td>\n",
       "      <td>6.055705</td>\n",
       "      <td>4.256562</td>\n",
       "      <td>6.092722</td>\n",
       "      <td>5.389506</td>\n",
       "    </tr>\n",
       "    <tr>\n",
       "      <th>min</th>\n",
       "      <td>0.000000</td>\n",
       "      <td>1.198630</td>\n",
       "      <td>0.000000</td>\n",
       "      <td>0.000000</td>\n",
       "      <td>0.000000</td>\n",
       "      <td>0.000000</td>\n",
       "      <td>0.000000</td>\n",
       "      <td>0.000000</td>\n",
       "      <td>0.000000</td>\n",
       "      <td>0.000000</td>\n",
       "    </tr>\n",
       "    <tr>\n",
       "      <th>25%</th>\n",
       "      <td>0.000000</td>\n",
       "      <td>3.983861</td>\n",
       "      <td>0.000000</td>\n",
       "      <td>0.000000</td>\n",
       "      <td>0.000000</td>\n",
       "      <td>3.685191</td>\n",
       "      <td>7.294910</td>\n",
       "      <td>0.000000</td>\n",
       "      <td>8.779383</td>\n",
       "      <td>0.000000</td>\n",
       "    </tr>\n",
       "    <tr>\n",
       "      <th>50%</th>\n",
       "      <td>0.000000</td>\n",
       "      <td>5.286344</td>\n",
       "      <td>0.000000</td>\n",
       "      <td>2.643172</td>\n",
       "      <td>0.000000</td>\n",
       "      <td>6.011865</td>\n",
       "      <td>11.190572</td>\n",
       "      <td>0.000000</td>\n",
       "      <td>12.061104</td>\n",
       "      <td>0.000000</td>\n",
       "    </tr>\n",
       "    <tr>\n",
       "      <th>75%</th>\n",
       "      <td>1.065891</td>\n",
       "      <td>7.991069</td>\n",
       "      <td>0.029087</td>\n",
       "      <td>4.993612</td>\n",
       "      <td>0.576232</td>\n",
       "      <td>11.828711</td>\n",
       "      <td>12.064929</td>\n",
       "      <td>0.000000</td>\n",
       "      <td>14.562514</td>\n",
       "      <td>0.022462</td>\n",
       "    </tr>\n",
       "    <tr>\n",
       "      <th>max</th>\n",
       "      <td>6.703057</td>\n",
       "      <td>20.020990</td>\n",
       "      <td>12.142777</td>\n",
       "      <td>13.225169</td>\n",
       "      <td>12.699248</td>\n",
       "      <td>15.595390</td>\n",
       "      <td>22.315621</td>\n",
       "      <td>16.538331</td>\n",
       "      <td>24.466156</td>\n",
       "      <td>18.417147</td>\n",
       "    </tr>\n",
       "  </tbody>\n",
       "</table>\n",
       "</div>"
      ],
      "text/plain": [
       "             Nii         Sa         Ra         Re         Ga         Ge  \\\n",
       "count  15.000000  15.000000  15.000000  15.000000  15.000000  15.000000   \n",
       "mean    1.066484   7.039931   1.943930   3.363151   2.205206   7.468213   \n",
       "std     1.921195   5.041806   4.138586   3.848428   4.439569   5.589084   \n",
       "min     0.000000   1.198630   0.000000   0.000000   0.000000   0.000000   \n",
       "25%     0.000000   3.983861   0.000000   0.000000   0.000000   3.685191   \n",
       "50%     0.000000   5.286344   0.000000   2.643172   0.000000   6.011865   \n",
       "75%     1.065891   7.991069   0.029087   4.993612   0.576232  11.828711   \n",
       "max     6.703057  20.020990  12.142777  13.225169  12.699248  15.595390   \n",
       "\n",
       "              Ma         Me         Pe         Da  \n",
       "count  15.000000  15.000000  15.000000  15.000000  \n",
       "mean    9.675157   1.177463  11.532621   1.984611  \n",
       "std     6.055705   4.256562   6.092722   5.389506  \n",
       "min     0.000000   0.000000   0.000000   0.000000  \n",
       "25%     7.294910   0.000000   8.779383   0.000000  \n",
       "50%    11.190572   0.000000  12.061104   0.000000  \n",
       "75%    12.064929   0.000000  14.562514   0.022462  \n",
       "max    22.315621  16.538331  24.466156  18.417147  "
      ]
     },
     "execution_count": 265,
     "metadata": {},
     "output_type": "execute_result"
    }
   ],
   "source": [
    "df_count_raag.iloc[:,0:10].describe()"
   ]
  },
  {
   "cell_type": "code",
   "execution_count": 266,
   "metadata": {
    "collapsed": false
   },
   "outputs": [
    {
     "data": {
      "text/html": [
       "<div>\n",
       "<table border=\"1\" class=\"dataframe\">\n",
       "  <thead>\n",
       "    <tr style=\"text-align: right;\">\n",
       "      <th></th>\n",
       "      <th>De</th>\n",
       "      <th>Na</th>\n",
       "      <th>Ni</th>\n",
       "      <th>Sa1</th>\n",
       "      <th>Ra1</th>\n",
       "      <th>Re1</th>\n",
       "      <th>Ga1</th>\n",
       "      <th>Ge1</th>\n",
       "      <th>Ma1</th>\n",
       "      <th>v</th>\n",
       "    </tr>\n",
       "  </thead>\n",
       "  <tbody>\n",
       "    <tr>\n",
       "      <th>count</th>\n",
       "      <td>15.000000</td>\n",
       "      <td>15.000000</td>\n",
       "      <td>15.000000</td>\n",
       "      <td>15.000000</td>\n",
       "      <td>15.000000</td>\n",
       "      <td>15.000000</td>\n",
       "      <td>15.000000</td>\n",
       "      <td>15.000000</td>\n",
       "      <td>15.000000</td>\n",
       "      <td>15.000000</td>\n",
       "    </tr>\n",
       "    <tr>\n",
       "      <th>mean</th>\n",
       "      <td>9.503250</td>\n",
       "      <td>6.512126</td>\n",
       "      <td>4.577050</td>\n",
       "      <td>9.677508</td>\n",
       "      <td>0.396575</td>\n",
       "      <td>1.536458</td>\n",
       "      <td>0.137750</td>\n",
       "      <td>0.435358</td>\n",
       "      <td>0.227067</td>\n",
       "      <td>6.062891</td>\n",
       "    </tr>\n",
       "    <tr>\n",
       "      <th>std</th>\n",
       "      <td>5.763183</td>\n",
       "      <td>5.617523</td>\n",
       "      <td>5.342107</td>\n",
       "      <td>4.425013</td>\n",
       "      <td>0.876451</td>\n",
       "      <td>1.415999</td>\n",
       "      <td>0.323659</td>\n",
       "      <td>0.569892</td>\n",
       "      <td>0.448779</td>\n",
       "      <td>3.955225</td>\n",
       "    </tr>\n",
       "    <tr>\n",
       "      <th>min</th>\n",
       "      <td>0.136054</td>\n",
       "      <td>0.000000</td>\n",
       "      <td>0.000000</td>\n",
       "      <td>1.394799</td>\n",
       "      <td>0.000000</td>\n",
       "      <td>0.000000</td>\n",
       "      <td>0.000000</td>\n",
       "      <td>0.000000</td>\n",
       "      <td>0.000000</td>\n",
       "      <td>0.592885</td>\n",
       "    </tr>\n",
       "    <tr>\n",
       "      <th>25%</th>\n",
       "      <td>4.503298</td>\n",
       "      <td>0.714286</td>\n",
       "      <td>0.000000</td>\n",
       "      <td>7.245944</td>\n",
       "      <td>0.000000</td>\n",
       "      <td>0.000000</td>\n",
       "      <td>0.000000</td>\n",
       "      <td>0.000000</td>\n",
       "      <td>0.000000</td>\n",
       "      <td>4.041248</td>\n",
       "    </tr>\n",
       "    <tr>\n",
       "      <th>50%</th>\n",
       "      <td>11.554341</td>\n",
       "      <td>6.060606</td>\n",
       "      <td>2.978122</td>\n",
       "      <td>11.223058</td>\n",
       "      <td>0.000000</td>\n",
       "      <td>1.712329</td>\n",
       "      <td>0.000000</td>\n",
       "      <td>0.249043</td>\n",
       "      <td>0.000000</td>\n",
       "      <td>5.819102</td>\n",
       "    </tr>\n",
       "    <tr>\n",
       "      <th>75%</th>\n",
       "      <td>14.228634</td>\n",
       "      <td>11.590970</td>\n",
       "      <td>6.590585</td>\n",
       "      <td>12.676477</td>\n",
       "      <td>0.000000</td>\n",
       "      <td>2.475114</td>\n",
       "      <td>0.068027</td>\n",
       "      <td>0.730470</td>\n",
       "      <td>0.133488</td>\n",
       "      <td>7.264826</td>\n",
       "    </tr>\n",
       "    <tr>\n",
       "      <th>max</th>\n",
       "      <td>17.902793</td>\n",
       "      <td>14.141893</td>\n",
       "      <td>16.666667</td>\n",
       "      <td>16.525828</td>\n",
       "      <td>2.909091</td>\n",
       "      <td>3.960813</td>\n",
       "      <td>1.214286</td>\n",
       "      <td>1.762115</td>\n",
       "      <td>1.412429</td>\n",
       "      <td>16.441993</td>\n",
       "    </tr>\n",
       "  </tbody>\n",
       "</table>\n",
       "</div>"
      ],
      "text/plain": [
       "              De         Na         Ni        Sa1        Ra1        Re1  \\\n",
       "count  15.000000  15.000000  15.000000  15.000000  15.000000  15.000000   \n",
       "mean    9.503250   6.512126   4.577050   9.677508   0.396575   1.536458   \n",
       "std     5.763183   5.617523   5.342107   4.425013   0.876451   1.415999   \n",
       "min     0.136054   0.000000   0.000000   1.394799   0.000000   0.000000   \n",
       "25%     4.503298   0.714286   0.000000   7.245944   0.000000   0.000000   \n",
       "50%    11.554341   6.060606   2.978122  11.223058   0.000000   1.712329   \n",
       "75%    14.228634  11.590970   6.590585  12.676477   0.000000   2.475114   \n",
       "max    17.902793  14.141893  16.666667  16.525828   2.909091   3.960813   \n",
       "\n",
       "             Ga1        Ge1        Ma1          v  \n",
       "count  15.000000  15.000000  15.000000  15.000000  \n",
       "mean    0.137750   0.435358   0.227067   6.062891  \n",
       "std     0.323659   0.569892   0.448779   3.955225  \n",
       "min     0.000000   0.000000   0.000000   0.592885  \n",
       "25%     0.000000   0.000000   0.000000   4.041248  \n",
       "50%     0.000000   0.249043   0.000000   5.819102  \n",
       "75%     0.068027   0.730470   0.133488   7.264826  \n",
       "max     1.214286   1.762115   1.412429  16.441993  "
      ]
     },
     "execution_count": 266,
     "metadata": {},
     "output_type": "execute_result"
    }
   ],
   "source": [
    "df_count_raag.iloc[:,10:20].describe()"
   ]
  },
  {
   "cell_type": "code",
   "execution_count": 278,
   "metadata": {
    "collapsed": false
   },
   "outputs": [
    {
     "data": {
      "text/plain": [
       "<matplotlib.axes._subplots.AxesSubplot at 0x1b92d78a5c0>"
      ]
     },
     "execution_count": 278,
     "metadata": {},
     "output_type": "execute_result"
    },
    {
     "data": {
      "image/png": "[encoded data removed]",
      "text/plain": [
       "<matplotlib.figure.Figure at 0x1b92d79eba8>"
      ]
     },
     "metadata": {},
     "output_type": "display_data"
    }
   ],
   "source": [
    "sns.heatmap(np.abs(df_full_count.corr()))"
   ]
  },
  {
   "cell_type": "code",
   "execution_count": 282,
   "metadata": {
    "collapsed": false
   },
   "outputs": [
    {
     "data": {
      "text/plain": [
       "<matplotlib.axes._subplots.AxesSubplot at 0x1b9434d8ba8>"
      ]
     },
     "execution_count": 282,
     "metadata": {},
     "output_type": "execute_result"
    },
    {
     "data": {
      "image/png": "[encoded data removed]",
      "text/plain": [
       "<matplotlib.figure.Figure at 0x1b92de20b38>"
      ]
     },
     "metadata": {},
     "output_type": "display_data"
    }
   ],
   "source": [
    "sns.heatmap(np.abs(df_count_raag.corr()))"
   ]
  },
  {
   "cell_type": "code",
   "execution_count": 284,
   "metadata": {
    "collapsed": false
   },
   "outputs": [
    {
     "data": {
      "text/plain": [
       "<matplotlib.axes._subplots.AxesSubplot at 0x1b9438f85c0>"
      ]
     },
     "execution_count": 284,
     "metadata": {},
     "output_type": "execute_result"
    },
    {
     "data": {
      "image/png": "[encoded data removed]",
      "text/plain": [
       "<matplotlib.figure.Figure at 0x1b945563e48>"
      ]
     },
     "metadata": {},
     "output_type": "display_data"
    }
   ],
   "source": [
    "sns.heatmap(np.abs(df_count_raag.T.corr()))"
   ]
  },
  {
   "cell_type": "markdown",
   "metadata": {},
   "source": [
    "### Neighbour notes\n",
    "\n",
    "As an ultimate exploratory step for now, we design a feature consisting in the frequencies of notes following a particular note."
   ]
  },
  {
   "cell_type": "code",
   "execution_count": 345,
   "metadata": {
    "collapsed": true
   },
   "outputs": [],
   "source": [
    "def count_following_notes(n, c):\n",
    "    count = list()\n",
    "    for note in symbols :\n",
    "        count.append(c.count(n+note)+c.count(n+\" \"+note));\n",
    "    total = sum(count)\n",
    "    #count = [(x*100/total) for x in count]\n",
    "    count.append(total)\n",
    "    return count"
   ]
  },
  {
   "cell_type": "code",
   "execution_count": 376,
   "metadata": {
    "collapsed": false
   },
   "outputs": [
    {
     "data": {
      "text/plain": [
       "[0, 0, 0, 0, 0, 0, 0, 0, 0, 0, 0, 3, 0, 0, 0, 0, 0, 0, 0, 0, 3]"
      ]
     },
     "execution_count": 376,
     "metadata": {},
     "output_type": "execute_result"
    }
   ],
   "source": [
    "count_following_notes(\"De\", df_full.iloc[3].Composition)"
   ]
  },
  {
   "cell_type": "code",
   "execution_count": 349,
   "metadata": {
    "collapsed": false
   },
   "outputs": [
    {
     "data": {
      "text/plain": [
       "'Sa Sa1Sa1 Na Sa1 De NaNa Pe De Na Sa1Sa1 De Na Pe Ma Ge Ra'"
      ]
     },
     "execution_count": 349,
     "metadata": {},
     "output_type": "execute_result"
    }
   ],
   "source": [
    "df_full.iloc[3].Composition"
   ]
  },
  {
   "cell_type": "code",
   "execution_count": 360,
   "metadata": {
    "collapsed": false
   },
   "outputs": [
    {
     "data": {
      "text/plain": [
       "<matplotlib.axes._subplots.AxesSubplot at 0x1b94595a0b8>"
      ]
     },
     "execution_count": 360,
     "metadata": {},
     "output_type": "execute_result"
    },
    {
     "data": {
      "image/png": "[encoded data removed]",
      "text/plain": [
       "<matplotlib.figure.Figure at 0x1b94be45a20>"
      ]
     },
     "metadata": {},
     "output_type": "display_data"
    }
   ],
   "source": [
    "count_following = list()\n",
    "for note in symbols :\n",
    "    count_following.append(count_following_notes(note, df_full.iloc[3].Composition));\n",
    "sns.heatmap(np.abs(pd.DataFrame(count_following, index=symbols, columns=symbols+[\"sum\"]).sort_values(by=\"sum\", ascending=False).iloc[:,0:20].corr()))"
   ]
  },
  {
   "cell_type": "code",
   "execution_count": 380,
   "metadata": {
    "collapsed": false
   },
   "outputs": [
    {
     "data": {
      "text/plain": [
       "<matplotlib.axes._subplots.AxesSubplot at 0x1b94d935b38>"
      ]
     },
     "execution_count": 380,
     "metadata": {},
     "output_type": "execute_result"
    },
    {
     "data": {
      "image/png": "[encoded data removed]",
      "text/plain": [
       "<matplotlib.figure.Figure at 0x1b94c76def0>"
      ]
     },
     "metadata": {},
     "output_type": "display_data"
    }
   ],
   "source": [
    "neighbour_matrix = pd.DataFrame(np.zeros((20, 21)),index=symbols, columns=symbols+[\"sum\"])\n",
    "for index in range(df_full.Raag.count()) :\n",
    "    count_following = list()\n",
    "    for note in symbols :\n",
    "        count_following.append(count_following_notes(note, df_full.iloc[index].Composition));\n",
    "    neighbour_matrix = neighbour_matrix.add(pd.DataFrame(count_following, index=symbols, columns=symbols+[\"sum\"]))\n",
    "sns.heatmap(np.abs(neighbour_matrix.sort_values(by=\"sum\", ascending=False).iloc[:,0:20].corr()))"
   ]
  }
 ],
 "metadata": {
  "anaconda-cloud": {},
  "kernelspec": {
   "display_name": "Python 3",
   "language": "python",
   "name": "python3"
  },
  "language_info": {
   "codemirror_mode": {
    "name": "ipython",
    "version": 3
   },
   "file_extension": ".py",
   "mimetype": "text/x-python",
   "name": "python",
   "nbconvert_exporter": "python",
   "pygments_lexer": "ipython3",
   "version": "3.5.2"
  }
 },
 "nbformat": 4,
 "nbformat_minor": 2
}
